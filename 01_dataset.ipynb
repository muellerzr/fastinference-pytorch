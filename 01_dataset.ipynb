{
 "cells": [
  {
   "cell_type": "code",
   "execution_count": null,
   "metadata": {},
   "outputs": [],
   "source": [
    "#default_exp dataset"
   ]
  },
  {
   "cell_type": "code",
   "execution_count": null,
   "metadata": {},
   "outputs": [],
   "source": [
    "#export\n",
    "from fastcore.transform import Transform, Pipeline\n",
    "from fastcore.utils import store_attr"
   ]
  },
  {
   "cell_type": "code",
   "execution_count": null,
   "metadata": {},
   "outputs": [],
   "source": [
    "#export\n",
    "class Dataset():\n",
    "    def __init__(self, items, type_tfms=[], after_item=[], after_batch=[], n_inp=1):\n",
    "        \"\"\"\n",
    "        General dataset handler\n",
    "        \n",
    "        Params:\n",
    "          > items: A dataset, could be filenames, etc\n",
    "          > type_tfms: A list of functions related to getting your `items`\n",
    "          > after_item: A list of item transforms to apply\n",
    "          > after_batch: A list of batch transforms to apply\n",
    "        \"\"\"\n",
    "        if not isinstance(type_tfms, Pipeline): type_tfms = Pipeline(type_tfms)\n",
    "        if not isinstance(after_item, Pipeline): after_item = Pipeline(after_item)\n",
    "        if not isinstance(after_batch, Pipeline): after_batch = Pipeline(after_batch)\n",
    "        for i, item in enumerate(items): items[i] = type_tfms(item)\n",
    "        self.dataset = items\n",
    "        store_attr(self, 'after_item,after_batch,n_inp')\n",
    "        \n",
    "    def __len__(self): return len(self.dataset)\n",
    "    \n",
    "    def __getitem__(self, idx):\n",
    "        data = self.dataset[idx]\n",
    "        for tfm in self.after_item:     data = tfm(data)\n",
    "        for tfm in self.after_batch:    data = tfm(data)\n",
    "        return data"
   ]
  },
  {
   "cell_type": "code",
   "execution_count": null,
   "metadata": {},
   "outputs": [],
   "source": []
  }
 ],
 "metadata": {
  "kernelspec": {
   "display_name": "Python 3",
   "language": "python",
   "name": "python3"
  }
 },
 "nbformat": 4,
 "nbformat_minor": 4
}
