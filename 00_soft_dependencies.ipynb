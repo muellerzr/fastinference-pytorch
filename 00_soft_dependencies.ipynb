{
 "cells": [
  {
   "cell_type": "code",
   "execution_count": null,
   "metadata": {},
   "outputs": [],
   "source": [
    "# default_exp soft_dependencies"
   ]
  },
  {
   "cell_type": "markdown",
   "metadata": {},
   "source": [
    "# 00_soft_dependcies\n",
    "\n",
    "> Filterizer for checking what version we have installed (vision, tab, or text)"
   ]
  },
  {
   "cell_type": "markdown",
   "metadata": {},
   "source": [
    "This form of checking is heavily influenced by the [mantisshrimp](https://github.com/airctic/mantisshrimp) library"
   ]
  },
  {
   "cell_type": "code",
   "execution_count": null,
   "metadata": {},
   "outputs": [],
   "source": [
    "#export\n",
    "from importlib import import_module\n",
    "from typing import *"
   ]
  },
  {
   "cell_type": "code",
   "execution_count": null,
   "metadata": {},
   "outputs": [],
   "source": [
    "#hide\n",
    "from fastcore.test import test_eq"
   ]
  },
  {
   "cell_type": "code",
   "execution_count": null,
   "metadata": {},
   "outputs": [],
   "source": [
    "#export\n",
    "def soft_import(name:str):\n",
    "    \"Tries to import a module\"\n",
    "    try: \n",
    "        import_module(name)\n",
    "        return True\n",
    "    except ModuleNotFoundError as e:\n",
    "        if str(e) != f\"No module named '{name}'\": raise e\n",
    "        return False"
   ]
  },
  {
   "cell_type": "code",
   "execution_count": null,
   "metadata": {},
   "outputs": [],
   "source": [
    "#hide\n",
    "test_eq(soft_import('fastinference[vision]'), False)"
   ]
  },
  {
   "cell_type": "code",
   "execution_count": null,
   "metadata": {},
   "outputs": [],
   "source": [
    "#export\n",
    "def soft_imports(names:list):\n",
    "    \"Tries to import a list of modules\"\n",
    "    for name in names: \n",
    "        o = soft_import(name)\n",
    "        if not o: return False\n",
    "    return True"
   ]
  },
  {
   "cell_type": "code",
   "execution_count": null,
   "metadata": {},
   "outputs": [],
   "source": [
    "#hide\n",
    "test_eq(soft_imports(['PIL', 'pandas', 'torchvision', 'spacy']), True)"
   ]
  },
  {
   "cell_type": "code",
   "execution_count": null,
   "metadata": {},
   "outputs": [],
   "source": [
    "#export\n",
    "class _SoftDependencies:\n",
    "    \"A class which checks what dependencies can be loaded\"\n",
    "    def __init__(self):\n",
    "        self.all = soft_imports(['PIL', 'pandas', 'torchvision', 'spacy'])\n",
    "        self.vision = soft_import('torchvision')\n",
    "        self.text = soft_import('spacy')\n",
    "        self.tab = soft_import('pandas')\n",
    "    \n",
    "    def check(self) -> Dict[str, bool]: return self.__dict__.copy()"
   ]
  },
  {
   "cell_type": "code",
   "execution_count": null,
   "metadata": {},
   "outputs": [],
   "source": [
    "#export\n",
    "SoftDependencies = _SoftDependencies()"
   ]
  },
  {
   "cell_type": "code",
   "execution_count": null,
   "metadata": {},
   "outputs": [],
   "source": [
    "#hide\n",
    "test_dep = {'all':True, 'vision':True, 'text':True, 'tab':True}\n",
    "test_eq(SoftDependencies.check(), test_dep)"
   ]
  }
 ],
 "metadata": {
  "kernelspec": {
   "display_name": "Python 3",
   "language": "python",
   "name": "python3"
  }
 },
 "nbformat": 4,
 "nbformat_minor": 4
}
